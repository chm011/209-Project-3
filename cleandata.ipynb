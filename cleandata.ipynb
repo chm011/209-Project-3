{
 "cells": [
  {
   "cell_type": "code",
   "execution_count": 12,
   "metadata": {},
   "outputs": [
    {
     "data": {
      "text/html": [
       "<div>\n",
       "<style scoped>\n",
       "    .dataframe tbody tr th:only-of-type {\n",
       "        vertical-align: middle;\n",
       "    }\n",
       "\n",
       "    .dataframe tbody tr th {\n",
       "        vertical-align: top;\n",
       "    }\n",
       "\n",
       "    .dataframe thead th {\n",
       "        text-align: right;\n",
       "    }\n",
       "</style>\n",
       "<table border=\"1\" class=\"dataframe\">\n",
       "  <thead>\n",
       "    <tr style=\"text-align: right;\">\n",
       "      <th></th>\n",
       "      <th>T30</th>\n",
       "      <th>Internet Usage</th>\n",
       "      <th>Unnamed: 2</th>\n",
       "      <th>Unnamed: 3</th>\n",
       "      <th>Unnamed: 4</th>\n",
       "      <th>Unnamed: 5</th>\n",
       "      <th>Unnamed: 6</th>\n",
       "    </tr>\n",
       "  </thead>\n",
       "  <tbody>\n",
       "    <tr>\n",
       "      <th>0</th>\n",
       "      <td>Region/Country/Area</td>\n",
       "      <td>NaN</td>\n",
       "      <td>Year</td>\n",
       "      <td>Series</td>\n",
       "      <td>Value</td>\n",
       "      <td>Footnotes</td>\n",
       "      <td>Source</td>\n",
       "    </tr>\n",
       "    <tr>\n",
       "      <th>1</th>\n",
       "      <td>1</td>\n",
       "      <td>Total, all countries or areas</td>\n",
       "      <td>2000</td>\n",
       "      <td>Percentage of individuals using the internet</td>\n",
       "      <td>5.3</td>\n",
       "      <td>NaN</td>\n",
       "      <td>International Telecommunication Union (ITU), G...</td>\n",
       "    </tr>\n",
       "    <tr>\n",
       "      <th>2</th>\n",
       "      <td>1</td>\n",
       "      <td>Total, all countries or areas</td>\n",
       "      <td>2005</td>\n",
       "      <td>Percentage of individuals using the internet</td>\n",
       "      <td>15.6</td>\n",
       "      <td>NaN</td>\n",
       "      <td>International Telecommunication Union (ITU), G...</td>\n",
       "    </tr>\n",
       "    <tr>\n",
       "      <th>3</th>\n",
       "      <td>1</td>\n",
       "      <td>Total, all countries or areas</td>\n",
       "      <td>2010</td>\n",
       "      <td>Percentage of individuals using the internet</td>\n",
       "      <td>28.5</td>\n",
       "      <td>NaN</td>\n",
       "      <td>International Telecommunication Union (ITU), G...</td>\n",
       "    </tr>\n",
       "    <tr>\n",
       "      <th>4</th>\n",
       "      <td>1</td>\n",
       "      <td>Total, all countries or areas</td>\n",
       "      <td>2015</td>\n",
       "      <td>Percentage of individuals using the internet</td>\n",
       "      <td>40.0</td>\n",
       "      <td>NaN</td>\n",
       "      <td>International Telecommunication Union (ITU), G...</td>\n",
       "    </tr>\n",
       "  </tbody>\n",
       "</table>\n",
       "</div>"
      ],
      "text/plain": [
       "                   T30                 Internet Usage Unnamed: 2  \\\n",
       "0  Region/Country/Area                            NaN       Year   \n",
       "1                    1  Total, all countries or areas       2000   \n",
       "2                    1  Total, all countries or areas       2005   \n",
       "3                    1  Total, all countries or areas       2010   \n",
       "4                    1  Total, all countries or areas       2015   \n",
       "\n",
       "                                     Unnamed: 3 Unnamed: 4 Unnamed: 5  \\\n",
       "0                                        Series      Value  Footnotes   \n",
       "1  Percentage of individuals using the internet        5.3        NaN   \n",
       "2  Percentage of individuals using the internet       15.6        NaN   \n",
       "3  Percentage of individuals using the internet       28.5        NaN   \n",
       "4  Percentage of individuals using the internet       40.0        NaN   \n",
       "\n",
       "                                          Unnamed: 6  \n",
       "0                                             Source  \n",
       "1  International Telecommunication Union (ITU), G...  \n",
       "2  International Telecommunication Union (ITU), G...  \n",
       "3  International Telecommunication Union (ITU), G...  \n",
       "4  International Telecommunication Union (ITU), G...  "
      ]
     },
     "execution_count": 12,
     "metadata": {},
     "output_type": "execute_result"
    }
   ],
   "source": [
    "import pandas as pd\n",
    "\n",
    "\n",
    "#see original dataset\n",
    "file_path = 'Internet_data.csv'\n",
    "data = pd.read_csv(file_path)\n",
    "\n",
    "data.head()\n"
   ]
  },
  {
   "cell_type": "code",
   "execution_count": 9,
   "metadata": {},
   "outputs": [
    {
     "data": {
      "text/plain": [
       "'cleaned_Internet_data.csv'"
      ]
     },
     "execution_count": 9,
     "metadata": {},
     "output_type": "execute_result"
    }
   ],
   "source": [
    "#Clean data\n",
    "cleaned_data = data[[\"Region/Country/Area\", \"Year\", \"Value\"]].dropna()\n",
    "\n",
    "cleaned_file_path = 'cleaned_Internet_data.csv'\n",
    "cleaned_data.to_csv(cleaned_file_path, index=False)\n",
    "\n",
    "cleaned_file_path\n"
   ]
  },
  {
   "cell_type": "code",
   "execution_count": 11,
   "metadata": {},
   "outputs": [
    {
     "data": {
      "text/html": [
       "<div>\n",
       "<style scoped>\n",
       "    .dataframe tbody tr th:only-of-type {\n",
       "        vertical-align: middle;\n",
       "    }\n",
       "\n",
       "    .dataframe tbody tr th {\n",
       "        vertical-align: top;\n",
       "    }\n",
       "\n",
       "    .dataframe thead th {\n",
       "        text-align: right;\n",
       "    }\n",
       "</style>\n",
       "<table border=\"1\" class=\"dataframe\">\n",
       "  <thead>\n",
       "    <tr style=\"text-align: right;\">\n",
       "      <th></th>\n",
       "      <th>Region/Country/Area</th>\n",
       "      <th>Year</th>\n",
       "      <th>Value</th>\n",
       "    </tr>\n",
       "  </thead>\n",
       "  <tbody>\n",
       "    <tr>\n",
       "      <th>0</th>\n",
       "      <td>Total, all countries or areas</td>\n",
       "      <td>2000</td>\n",
       "      <td>5.3</td>\n",
       "    </tr>\n",
       "    <tr>\n",
       "      <th>1</th>\n",
       "      <td>Total, all countries or areas</td>\n",
       "      <td>2005</td>\n",
       "      <td>15.6</td>\n",
       "    </tr>\n",
       "    <tr>\n",
       "      <th>2</th>\n",
       "      <td>Total, all countries or areas</td>\n",
       "      <td>2010</td>\n",
       "      <td>28.5</td>\n",
       "    </tr>\n",
       "    <tr>\n",
       "      <th>3</th>\n",
       "      <td>Total, all countries or areas</td>\n",
       "      <td>2015</td>\n",
       "      <td>40.0</td>\n",
       "    </tr>\n",
       "    <tr>\n",
       "      <th>4</th>\n",
       "      <td>Total, all countries or areas</td>\n",
       "      <td>2019</td>\n",
       "      <td>53.7</td>\n",
       "    </tr>\n",
       "  </tbody>\n",
       "</table>\n",
       "</div>"
      ],
      "text/plain": [
       "             Region/Country/Area  Year  Value\n",
       "0  Total, all countries or areas  2000    5.3\n",
       "1  Total, all countries or areas  2005   15.6\n",
       "2  Total, all countries or areas  2010   28.5\n",
       "3  Total, all countries or areas  2015   40.0\n",
       "4  Total, all countries or areas  2019   53.7"
      ]
     },
     "execution_count": 11,
     "metadata": {},
     "output_type": "execute_result"
    }
   ],
   "source": [
    "#see cleaned data\n",
    "file_path = 'cleaned_internet_data.csv'\n",
    "data = pd.read_csv(file_path)\n",
    "\n",
    "data.head()"
   ]
  },
  {
   "cell_type": "code",
   "execution_count": null,
   "metadata": {},
   "outputs": [],
   "source": []
  }
 ],
 "metadata": {
  "kernelspec": {
   "display_name": "base",
   "language": "python",
   "name": "python3"
  },
  "language_info": {
   "codemirror_mode": {
    "name": "ipython",
    "version": 3
   },
   "file_extension": ".py",
   "mimetype": "text/x-python",
   "name": "python",
   "nbconvert_exporter": "python",
   "pygments_lexer": "ipython3",
   "version": "3.11.5"
  }
 },
 "nbformat": 4,
 "nbformat_minor": 2
}
